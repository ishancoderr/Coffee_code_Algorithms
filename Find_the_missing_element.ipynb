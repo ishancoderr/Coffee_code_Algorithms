{
  "nbformat": 4,
  "nbformat_minor": 0,
  "metadata": {
    "colab": {
      "name": "Untitled52.ipynb",
      "provenance": [],
      "authorship_tag": "ABX9TyP2RPqq2ErxMKCN+yCSHnxL",
      "include_colab_link": true
    },
    "kernelspec": {
      "name": "python3",
      "display_name": "Python 3"
    },
    "language_info": {
      "name": "python"
    }
  },
  "cells": [
    {
      "cell_type": "markdown",
      "metadata": {
        "id": "view-in-github",
        "colab_type": "text"
      },
      "source": [
        "<a href=\"https://colab.research.google.com/github/ishancoderr/Coffee_code_Algorithms/blob/main/Find_the_missing_element.ipynb\" target=\"_parent\"><img src=\"https://colab.research.google.com/assets/colab-badge.svg\" alt=\"Open In Colab\"/></a>"
      ]
    },
    {
      "cell_type": "code",
      "execution_count": 1,
      "metadata": {
        "id": "3KrAbgZDZL9a"
      },
      "outputs": [],
      "source": [
        "def finder(arr1,arr2):\n",
        "\n",
        "  arr1.sort()\n",
        "  arr2.sort()\n",
        "\n",
        "  for num1,num2 in zip(arr1,arr2):\n",
        "    if num1 != num2:\n",
        "      return num1     \n"
      ]
    },
    {
      "cell_type": "code",
      "source": [
        "arr1 =[1,2,3,4,5,6,7]\n",
        "arr2 =[3,7,2,1,4,6]\n",
        "\n",
        "finder(arr1,arr2)"
      ],
      "metadata": {
        "colab": {
          "base_uri": "https://localhost:8080/"
        },
        "id": "2kOGBeiLa6iM",
        "outputId": "7fe50de7-4278-4eab-991a-2ee9771968aa"
      },
      "execution_count": 6,
      "outputs": [
        {
          "output_type": "execute_result",
          "data": {
            "text/plain": [
              "5"
            ]
          },
          "metadata": {},
          "execution_count": 6
        }
      ]
    },
    {
      "cell_type": "code",
      "source": [
        "import collections"
      ],
      "metadata": {
        "id": "ETGqtfNRb547"
      },
      "execution_count": 7,
      "outputs": []
    },
    {
      "cell_type": "code",
      "source": [
        "def finder2(arr1,arr2):\n",
        "\n",
        "  d= collections.defaultdict(int)\n",
        "\n",
        "  for num in arr2:\n",
        "    d[num] += 1\n",
        "\n",
        "  for num in arr1:\n",
        "    if d[num] ==0:\n",
        "      return num\n",
        "\n",
        "    else:\n",
        "      d[num] -= 1\n",
        "      \n"
      ],
      "metadata": {
        "id": "V2Tcc4MkdB7k"
      },
      "execution_count": 8,
      "outputs": []
    },
    {
      "cell_type": "code",
      "source": [
        "arr1 = [5,5,7,7]\n",
        "arr2 = [5,7,7]\n",
        "\n",
        "finder2(arr1,arr2)"
      ],
      "metadata": {
        "colab": {
          "base_uri": "https://localhost:8080/"
        },
        "id": "0EScwhkGfSa1",
        "outputId": "4213de6d-e3c0-4514-99f8-88ec2d024d85"
      },
      "execution_count": 9,
      "outputs": [
        {
          "output_type": "execute_result",
          "data": {
            "text/plain": [
              "5"
            ]
          },
          "metadata": {},
          "execution_count": 9
        }
      ]
    }
  ]
}