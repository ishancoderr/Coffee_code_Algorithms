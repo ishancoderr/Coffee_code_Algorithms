{
  "nbformat": 4,
  "nbformat_minor": 0,
  "metadata": {
    "colab": {
      "name": "Untitled45.ipynb",
      "provenance": [],
      "authorship_tag": "ABX9TyPzuiEwFmoWkGamD8kXpbpx",
      "include_colab_link": true
    },
    "kernelspec": {
      "name": "python3",
      "display_name": "Python 3"
    },
    "language_info": {
      "name": "python"
    }
  },
  "cells": [
    {
      "cell_type": "markdown",
      "metadata": {
        "id": "view-in-github",
        "colab_type": "text"
      },
      "source": [
        "<a href=\"https://colab.research.google.com/github/ishancoderr/Coffee_code_Algorithms/blob/main/001_Anagram_Check.ipynb\" target=\"_parent\"><img src=\"https://colab.research.google.com/assets/colab-badge.svg\" alt=\"Open In Colab\"/></a>"
      ]
    },
    {
      "cell_type": "markdown",
      "metadata": {
        "id": "JMmPtHqMWlE5"
      },
      "source": [
        "# **Check whether two string are anagram of each other**"
      ]
    },
    {
      "cell_type": "markdown",
      "metadata": {
        "id": "SIreajxcXgR6"
      },
      "source": [
        "![download.png](data:image/png;base64,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)"
      ]
    },
    {
      "cell_type": "markdown",
      "metadata": {
        "id": "4nd-oDaPbrdw"
      },
      "source": [
        "**solution**"
      ]
    },
    {
      "cell_type": "code",
      "metadata": {
        "id": "ahBf67T0buYH"
      },
      "source": [
        "def anagram(w1,w2):\n",
        "  w1=w1.replace(' ','').lower()\n",
        "  w2=w2.replace(' ','').lower()\n",
        "\n",
        "  return sorted(w1)==sorted(w2)\n",
        "  "
      ],
      "execution_count": 25,
      "outputs": []
    },
    {
      "cell_type": "code",
      "metadata": {
        "colab": {
          "base_uri": "https://localhost:8080/"
        },
        "id": "_9TsEKCKggiP",
        "outputId": "1435caba-0597-474b-80b4-47eba075e7cd"
      },
      "source": [
        "anagram('do  g','GOd')"
      ],
      "execution_count": 26,
      "outputs": [
        {
          "output_type": "execute_result",
          "data": {
            "text/plain": [
              "True"
            ]
          },
          "metadata": {},
          "execution_count": 26
        }
      ]
    },
    {
      "cell_type": "code",
      "metadata": {
        "id": "AUP0e4RfmS41"
      },
      "source": [
        "def anagramer(w1,w2):\n",
        "  w1=w1.replace(' ','').lower()\n",
        "  w2=w2.replace(' ','').lower()\n",
        "\n",
        "  \n",
        "  if len(w1) != len(w2):\n",
        "    return False\n",
        "\n",
        "  count ={}\n",
        "\n",
        "  for letter in w1:\n",
        "    print(letter)\n",
        "    if letter in count:\n",
        "      print(letter)\n",
        "      count[letter] += 1\n",
        "    else:\n",
        "      count[letter] = 1\n",
        "\n",
        "  for letter in w2:\n",
        "    if letter in count:\n",
        "      count[letter] -= 1\n",
        "    else:\n",
        "      count[letter]   =1\n",
        "\n",
        "  for k in count:\n",
        "    if count[k] != 0:\n",
        "      return False\n",
        "\n",
        "  return True\n",
        "\n",
        "\n",
        "  "
      ],
      "execution_count": 52,
      "outputs": []
    },
    {
      "cell_type": "code",
      "metadata": {
        "colab": {
          "base_uri": "https://localhost:8080/"
        },
        "id": "qXjdz03VnKXl",
        "outputId": "ee040928-9fa3-4fb3-a8de-d468838ba7d2"
      },
      "source": [
        "anagramer('wera','wesa')"
      ],
      "execution_count": 51,
      "outputs": [
        {
          "output_type": "stream",
          "name": "stdout",
          "text": [
            "w\n",
            "e\n",
            "r\n",
            "a\n"
          ]
        },
        {
          "output_type": "execute_result",
          "data": {
            "text/plain": [
              "False"
            ]
          },
          "metadata": {},
          "execution_count": 51
        }
      ]
    },
    {
      "cell_type": "code",
      "metadata": {
        "colab": {
          "base_uri": "https://localhost:8080/"
        },
        "id": "umbunKJ00XAM",
        "outputId": "686f160d-7aba-4c08-b078-49e778302872"
      },
      "source": [
        "anagramer('rabbt','t bbra')"
      ],
      "execution_count": 45,
      "outputs": [
        {
          "output_type": "execute_result",
          "data": {
            "text/plain": [
              "True"
            ]
          },
          "metadata": {},
          "execution_count": 45
        }
      ]
    }
  ]
}